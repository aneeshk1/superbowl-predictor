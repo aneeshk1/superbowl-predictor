{
 "cells": [
  {
   "cell_type": "code",
   "execution_count": 1,
   "id": "951603f1-fe7f-4416-b2a6-dcf2ca2edac6",
   "metadata": {},
   "outputs": [],
   "source": [
    "from stats_add import update_all_seasons"
   ]
  },
  {
   "cell_type": "code",
   "execution_count": 3,
   "id": "e492aaa6-17dc-4476-a6c1-ddbd1ce194ee",
   "metadata": {},
   "outputs": [
    {
     "name": "stdout",
     "output_type": "stream",
     "text": [
      "Update completed for 15\n",
      "Update completed for 16\n",
      "Update completed for 17\n",
      "Update completed for 18\n",
      "Update completed for 19\n",
      "Update completed for 20\n",
      "Update completed for 21\n",
      "Update completed for 22\n",
      "Update completed for 23\n",
      "Update completed for 24\n"
     ]
    }
   ],
   "source": [
    "update_all_seasons(\"offensive_stats/\", 2015, 2024, False)"
   ]
  },
  {
   "cell_type": "code",
   "execution_count": 4,
   "id": "2ab2f46e-505b-4b4f-9dc8-464f783200d6",
   "metadata": {},
   "outputs": [
    {
     "name": "stdout",
     "output_type": "stream",
     "text": [
      "Update completed for 15\n",
      "Update completed for 16\n",
      "Update completed for 17\n",
      "Update completed for 18\n",
      "Update completed for 19\n",
      "Update completed for 20\n",
      "Update completed for 21\n",
      "Update completed for 22\n",
      "Update completed for 23\n",
      "Update completed for 24\n"
     ]
    }
   ],
   "source": [
    "update_all_seasons(\"defensive_stats/\", 2015, 2024, True)"
   ]
  }
 ],
 "metadata": {
  "kernelspec": {
   "display_name": "Python 3 (ipykernel)",
   "language": "python",
   "name": "python3"
  },
  "language_info": {
   "codemirror_mode": {
    "name": "ipython",
    "version": 3
   },
   "file_extension": ".py",
   "mimetype": "text/x-python",
   "name": "python",
   "nbconvert_exporter": "python",
   "pygments_lexer": "ipython3",
   "version": "3.13.2"
  }
 },
 "nbformat": 4,
 "nbformat_minor": 5
}
